{
 "cells": [
  {
   "cell_type": "code",
   "outputs": [],
   "source": [
    "import scipy\n",
    "import matplotlib.pyplot as plt\n",
    "import numpy\n",
    "import pandas\n"
   ],
   "metadata": {
    "collapsed": false,
    "ExecuteTime": {
     "end_time": "2025-06-03T14:19:17.479218500Z",
     "start_time": "2025-06-03T14:19:15.828155900Z"
    }
   },
   "id": "19626551b07bec0",
   "execution_count": 3
  },
  {
   "cell_type": "code",
   "outputs": [],
   "source": [
    "column_names = ['ASIC', 'Channel', 'TimeStamp', 'Adc', 'PileUp', 'OverFlow',\n",
    "                'Gain', 'Thr', 'iCal', 'Trim', 'TS Asic', 'TS Fpga']\n",
    "data_calib = pandas.read_csv('raw_data_ical_no_calib.dat', delimiter='\\t', names=column_names, skiprows=2)\n",
    "column_names = ['ASIC', 'Channel', 'TimeStamp', 'Adc', 'OverFlow', 'PileUp']\n",
    "data = pandas.read_csv('GEM_HV_3930_2_AGH_plain_part_008.pcap_raw_hits.txt', delimiter='\\t', names=column_names, skiprows=1, index_col=False)\n"
   ],
   "metadata": {
    "collapsed": false,
    "ExecuteTime": {
     "end_time": "2025-06-03T14:19:40.050323300Z",
     "start_time": "2025-06-03T14:19:17.479218500Z"
    }
   },
   "id": "86cc6b00b8519d6e",
   "execution_count": 4
  },
  {
   "cell_type": "code",
   "outputs": [],
   "source": [
    "grouped_data = {}\n",
    "slope_data = {}\n",
    "\n",
    "def ele_calib(xs, ys):\n",
    "    result = scipy.stats.linregress(xs, ys)\n",
    "    return abs(result.slope), result.intercept\n",
    "\n",
    "for (asic, channel), group in data_calib.groupby(['ASIC', 'Channel']):\n",
    "    xs = group['iCal'].tolist()\n",
    "    ys = group['Adc'].tolist()\n",
    "    grouped_data[(asic, channel)] = (xs, ys)\n",
    "\n",
    "for (asic, channel) in grouped_data:\n",
    "    xs, ys = grouped_data[(asic, channel)]\n",
    "    slope, intercept = ele_calib(xs, ys)\n",
    "    slope_data[(asic, channel)] = (slope, intercept)\n",
    "\n",
    "\n",
    "def calibrate_row(row):\n",
    "    slope, intercept = slope_data[(row['ASIC'], row['Channel'])]\n",
    "    return (row['Adc'] - intercept) / slope"
   ],
   "metadata": {
    "collapsed": false,
    "ExecuteTime": {
     "end_time": "2025-06-03T14:19:45.682145500Z",
     "start_time": "2025-06-03T14:19:40.063493200Z"
    }
   },
   "id": "ca02ecd22991e39c",
   "execution_count": 5
  },
  {
   "cell_type": "code",
   "outputs": [],
   "source": [
    "data['Adc'] = data.apply(calibrate_row, axis=1)\n"
   ],
   "metadata": {
    "collapsed": false,
    "ExecuteTime": {
     "end_time": "2025-06-03T14:26:24.561153200Z",
     "start_time": "2025-06-03T14:19:45.682145500Z"
    }
   },
   "id": "2d1771e22b58b7d3",
   "execution_count": 6
  },
  {
   "cell_type": "code",
   "outputs": [
    {
     "name": "stdout",
     "output_type": "stream",
     "text": [
      "0      0\n",
      "1      0\n",
      "2      1\n",
      "3      2\n",
      "4      2\n",
      "      ..\n",
      "95    26\n",
      "96    26\n",
      "97    27\n",
      "98    27\n",
      "99    27\n",
      "Name: GroupID, Length: 100, dtype: int32\n"
     ]
    }
   ],
   "source": [
    "data = data.sort_values(by='TimeStamp').reset_index(drop=True)\n",
    "time_diff = data['TimeStamp'].diff().fillna(0)\n",
    "new_group = (time_diff >= 100).cumsum()\n",
    "data['GroupID'] = new_group\n",
    "print(data['GroupID'].head(100))"
   ],
   "metadata": {
    "collapsed": false,
    "ExecuteTime": {
     "end_time": "2025-06-03T14:26:31.885566200Z",
     "start_time": "2025-06-03T14:26:24.561153200Z"
    }
   },
   "id": "be1838db89220641",
   "execution_count": 7
  },
  {
   "cell_type": "code",
   "outputs": [],
   "source": [
    "def transf_cords(row):\n",
    "    asic = row['ASIC'] - 86\n",
    "    channel = row['Channel']\n",
    "    axis = 'x'\n",
    "    coord = 0\n",
    "    if asic > 3:\n",
    "        axis = 'y'\n",
    "    if axis == 'x':\n",
    "        coord = 31 - channel\n",
    "        coord = coord + asic * 32\n",
    "    else:\n",
    "        coord = channel\n",
    "        asic = 3 - asic\n",
    "        coord = coord + asic * 32\n",
    "    return axis, coord"
   ],
   "metadata": {
    "collapsed": false,
    "ExecuteTime": {
     "end_time": "2025-06-03T14:26:31.886563Z",
     "start_time": "2025-06-03T14:26:31.874777700Z"
    }
   },
   "id": "7df39e8faa1f5bf1",
   "execution_count": 8
  },
  {
   "cell_type": "code",
   "outputs": [],
   "source": [
    "data[['axis', 'coord']] = data.apply(transf_cords, axis=1, result_type='expand')"
   ],
   "metadata": {
    "collapsed": false,
    "ExecuteTime": {
     "end_time": "2025-06-03T14:57:42.629697500Z",
     "start_time": "2025-06-03T14:33:37.485861400Z"
    }
   },
   "id": "a0eae72971ff75df",
   "execution_count": 10
  },
  {
   "cell_type": "code",
   "outputs": [
    {
     "name": "stderr",
     "output_type": "stream",
     "text": [
      "C:\\Users\\Dennisov\\AppData\\Local\\Temp\\ipykernel_11728\\2940396317.py:21: FutureWarning: The behavior of DataFrame concatenation with empty or all-NA entries is deprecated. In a future version, this will no longer exclude empty or all-NA columns when determining the result dtypes. To retain the old behavior, exclude the relevant entries before the concat operation.\n",
      "  event_map = pandas.concat([event_map, new_row], ignore_index=True)\n"
     ]
    }
   ],
   "source": [
    "event_map = pandas.DataFrame(columns=['x', 'y', 'Value'])\n",
    "\n",
    "for groupID, group in data.groupby(['GroupID']):\n",
    "    axis = group['axis'].tolist()\n",
    "    coord = group['coord'].tolist()\n",
    "    values = group['Adc'].tolist()\n",
    "\n",
    "    x_coords = [coord[i] for i in range(len(axis)) if axis[i] == 'x']\n",
    "    x_values = [values[i] for i in range(len(axis)) if axis[i] == 'x']\n",
    "    \n",
    "    y_coords = [coord[i] for i in range(len(axis)) if axis[i] == 'y']\n",
    "    y_values = [values[i] for i in range(len(axis)) if axis[i] == 'y']\n",
    "\n",
    "    # Compute center of mass if values are present\n",
    "    x_com = round(sum(c * v for c, v in zip(x_coords, x_values)) / sum(x_values)) if x_values else None\n",
    "    y_com = round(sum(c * v for c, v in zip(y_coords, y_values)) / sum(y_values)) if y_values else None\n",
    "\n",
    "    total_value = sum(values)\n",
    "\n",
    "    new_row = pandas.DataFrame([{'x': x_com, 'y': y_com, 'Value': total_value}])\n",
    "    event_map = pandas.concat([event_map, new_row], ignore_index=True)"
   ],
   "metadata": {
    "collapsed": false,
    "is_executing": true,
    "ExecuteTime": {
     "start_time": "2025-06-03T14:59:18.347330900Z"
    }
   },
   "id": "696c51417439ea48",
   "execution_count": null
  },
  {
   "cell_type": "code",
   "outputs": [],
   "source": [
    "print(event_map.head(10))\n",
    "x_target = 10\n",
    "y_target = 10\n",
    "selected = event_map[(event_map['x'] == x_target) & (event_map['y'] == y_target)]\n",
    "plt.figure(figsize=(8, 5))\n",
    "plt.hist(selected['Value'], bins=30, color='skyblue', edgecolor='black')\n",
    "plt.title(f\"Histogram of Values near (x={x_target}, y={y_target})\")\n",
    "plt.xlabel(\"Value\")\n",
    "plt.ylabel(\"Frequency\")\n",
    "plt.grid(True)\n",
    "plt.show()"
   ],
   "metadata": {
    "collapsed": false,
    "is_executing": true
   },
   "id": "179865a4d01b523a"
  },
  {
   "cell_type": "code",
   "outputs": [],
   "source": [],
   "metadata": {
    "collapsed": false
   },
   "id": "c2c257765ad7b10e"
  }
 ],
 "metadata": {
  "kernelspec": {
   "display_name": "Python 3",
   "language": "python",
   "name": "python3"
  },
  "language_info": {
   "codemirror_mode": {
    "name": "ipython",
    "version": 2
   },
   "file_extension": ".py",
   "mimetype": "text/x-python",
   "name": "python",
   "nbconvert_exporter": "python",
   "pygments_lexer": "ipython2",
   "version": "2.7.6"
  }
 },
 "nbformat": 4,
 "nbformat_minor": 5
}
